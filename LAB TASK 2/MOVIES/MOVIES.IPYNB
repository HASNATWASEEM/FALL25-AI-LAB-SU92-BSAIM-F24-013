{
 "cells": [
  {
   "cell_type": "code",
   "execution_count": 3,
   "id": "00d34fd0",
   "metadata": {},
   "outputs": [
    {
     "name": "stdout",
     "output_type": "stream",
     "text": [
      "\n",
      "Average budget of films is: 148166675.55555555\n",
      "\n",
      "Films with budget higher than average:\n",
      "Pirates of the Caribbean: On Stranger Tides has a budget 230833324.44444445 more than average\n",
      "Avengers: Age of Ultron has a budget 216833324.44444445 more than average\n",
      "Avengers: Endgame has a budget 207833324.44444445 more than average\n",
      "Incredibles 2 has a budget 51833324.44444445 more than average\n",
      "\n",
      "Number of films with higher than average budget: 4\n"
     ]
    }
   ],
   "source": [
    "films = [\n",
    "    (\"Eternal Sunshine of the Spotless Mind\", 20000000),\n",
    "    (\"Memento\", 9000000),\n",
    "    (\"Requiem for a Dream\", 4500000),\n",
    "    (\"Pirates of the Caribbean: On Stranger Tides\", 379000000),\n",
    "    (\"Avengers: Age of Ultron\", 365000000),\n",
    "    (\"Avengers: Endgame\", 356000000),\n",
    "    (\"Incredibles 2\", 200000000)\n",
    "]\n",
    "\n",
    "add_new = input(\"Do you want to add more films? (yes/no): \").lower()\n",
    "if add_new == \"yes\":\n",
    "    extra_count = int(input(\"How many films you want to add? \"))\n",
    "    for i in range(extra_count):\n",
    "        title = input(\"Enter film title: \")\n",
    "        cost = int(input(\"Enter budget: \"))\n",
    "        films.append((title, cost))\n",
    "\n",
    "total_cost = 0\n",
    "for film in films:\n",
    "    total_cost += film[1]\n",
    "\n",
    "avg_cost = total_cost / len(films)\n",
    "print(\"\\nAverage budget of films is:\", avg_cost)\n",
    "\n",
    "above_avg = 0\n",
    "print(\"\\nFilms with budget higher than average:\")\n",
    "for film in films:\n",
    "    if film[1] > avg_cost:\n",
    "        diff = film[1] - avg_cost\n",
    "        print(film[0], \"has a budget\", diff, \"more than average\")\n",
    "        above_avg += 1\n",
    "\n",
    "print(\"\\nNumber of films with higher than average budget:\", above_avg)\n"
   ]
  },
  {
   "cell_type": "code",
   "execution_count": null,
   "id": "59e8dcba",
   "metadata": {},
   "outputs": [],
   "source": []
  }
 ],
 "metadata": {
  "kernelspec": {
   "display_name": "base",
   "language": "python",
   "name": "python3"
  },
  "language_info": {
   "codemirror_mode": {
    "name": "ipython",
    "version": 3
   },
   "file_extension": ".py",
   "mimetype": "text/x-python",
   "name": "python",
   "nbconvert_exporter": "python",
   "pygments_lexer": "ipython3",
   "version": "3.12.4"
  }
 },
 "nbformat": 4,
 "nbformat_minor": 5
}
