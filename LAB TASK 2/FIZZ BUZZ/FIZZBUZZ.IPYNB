{
 "cells": [
  {
   "cell_type": "code",
   "execution_count": 3,
   "id": "61ddf442",
   "metadata": {},
   "outputs": [
    {
     "name": "stdout",
     "output_type": "stream",
     "text": [
      "Welcome to Simple FizzBuzz Twist Game\n",
      "Rule: First round -> use the number itself\n",
      "From 2nd round -> add current number + previous number\n",
      "\n",
      "Round 1 - Computer gave: 3\n",
      "Wrong! Correct answer was: Fizz \n",
      "\n",
      "Round 2 - Computer gave: 3\n",
      "Wrong! Correct answer was: Fizz \n",
      "\n",
      "Round 3 - Computer gave: 1\n",
      "Wrong! Correct answer was: 4 \n",
      "\n",
      "Round 4 - Computer gave: 13\n",
      "Wrong! Correct answer was: 14 \n",
      "\n",
      "Round 5 - Computer gave: 12\n",
      "Wrong! Correct answer was: Buzz \n",
      "\n",
      "Round 6 - Computer gave: 10\n",
      "Wrong! Correct answer was: 22 \n",
      "\n",
      "Round 7 - Computer gave: 17\n",
      "Wrong! Correct answer was: Fizz \n",
      "\n",
      "Round 8 - Computer gave: 18\n",
      "Wrong! Correct answer was: Buzz \n",
      "\n",
      "Round 9 - Computer gave: 9\n",
      "Wrong! Correct answer was: Fizz \n",
      "\n",
      "Round 10 - Computer gave: 3\n",
      "Wrong! Correct answer was: Fizz \n",
      "\n",
      "Game Over! Your final score is: 0\n"
     ]
    }
   ],
   "source": [
    "import random\n",
    "\n",
    "def fizzbuzz_game(rounds=10):\n",
    "    print(\"Welcome to Simple FizzBuzz Twist Game\")\n",
    "    print(\"Rule: First round -> use the number itself\")\n",
    "    print(\"From 2nd round -> add current number + previous number\\n\")\n",
    "\n",
    "    points = 0\n",
    "    last_num = None   # will store previous number\n",
    "\n",
    "    for turn in range(1, rounds + 1):\n",
    "        number = random.randint(1, 20)   # smaller range for easy testing\n",
    "        total = number if last_num is None else number + last_num\n",
    "\n",
    "        # find correct answer\n",
    "        if total % 15 == 0:\n",
    "            correct_ans = \"Fizz Buzz\"\n",
    "        elif total % 3 == 0:\n",
    "            correct_ans = \"Fizz\"\n",
    "        elif total % 5 == 0:\n",
    "            correct_ans = \"Buzz\"\n",
    "        else:\n",
    "            correct_ans = str(total)\n",
    "\n",
    "        print(\"Round\", turn, \"- Computer gave:\", number)\n",
    "        user_ans = input(\"Your answer: \").strip()\n",
    "\n",
    "        if user_ans.lower() == correct_ans.lower():\n",
    "            points += 1\n",
    "            print(\"Right! Score =\", points, \"\\n\")\n",
    "        else:\n",
    "            print(\"Wrong! Correct answer was:\", correct_ans, \"\\n\")\n",
    "\n",
    "        # update last number\n",
    "        last_num = number\n",
    "\n",
    "    # show final score\n",
    "    print(\"Game Over! Your final score is:\", points)\n",
    "\n",
    "# Run game\n",
    "fizzbuzz_game(10)\n"
   ]
  },
  {
   "cell_type": "code",
   "execution_count": null,
   "id": "1c86f01d",
   "metadata": {},
   "outputs": [],
   "source": []
  }
 ],
 "metadata": {
  "kernelspec": {
   "display_name": "base",
   "language": "python",
   "name": "python3"
  },
  "language_info": {
   "codemirror_mode": {
    "name": "ipython",
    "version": 3
   },
   "file_extension": ".py",
   "mimetype": "text/x-python",
   "name": "python",
   "nbconvert_exporter": "python",
   "pygments_lexer": "ipython3",
   "version": "3.12.4"
  }
 },
 "nbformat": 4,
 "nbformat_minor": 5
}
