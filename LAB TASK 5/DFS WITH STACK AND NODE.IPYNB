{
 "cells": [
  {
   "cell_type": "code",
   "execution_count": 4,
   "id": "d9ecea68",
   "metadata": {},
   "outputs": [
    {
     "name": "stdout",
     "output_type": "stream",
     "text": [
      "DFS using Stack:\n",
      "1 2 4 5 3 \n",
      "Preorder:\n",
      "1 2 4 5 3 \n",
      "Inorder:\n",
      "4 2 5 1 3 \n",
      "Postorder:\n",
      "4 5 2 3 1 "
     ]
    }
   ],
   "source": [
    "\n",
    "def dfs_stack(start):\n",
    "    stack = [start]\n",
    "    visited = set()\n",
    "\n",
    "    while stack:\n",
    "        node = stack.pop()\n",
    "        if node and node not in visited:\n",
    "            print(node.data, end=\" \")\n",
    "            visited.add(node)\n",
    "            stack.append(node.right)\n",
    "            stack.append(node.left)\n",
    "if __name__ == \"__main__\":\n",
    "    root = Node(1)\n",
    "    root.left = Node(2)\n",
    "    root.right = Node(3)\n",
    "    root.left.left = Node(4)\n",
    "    root.left.right = Node(5)\n",
    "\n",
    "    print(\"DFS using Stack:\")\n",
    "    dfs_stack(root)\n",
    "    print(\"\\nPreorder:\")\n",
    "    preorder(root)\n",
    "    print(\"\\nInorder:\")\n",
    "    inorder(root)\n",
    "    print(\"\\nPostorder:\")\n",
    "    postorder(root)\n"
   ]
  },
  {
   "cell_type": "code",
   "execution_count": null,
   "id": "095e4c99",
   "metadata": {},
   "outputs": [],
   "source": []
  }
 ],
 "metadata": {
  "kernelspec": {
   "display_name": "base",
   "language": "python",
   "name": "python3"
  },
  "language_info": {
   "codemirror_mode": {
    "name": "ipython",
    "version": 3
   },
   "file_extension": ".py",
   "mimetype": "text/x-python",
   "name": "python",
   "nbconvert_exporter": "python",
   "pygments_lexer": "ipython3",
   "version": "3.12.4"
  }
 },
 "nbformat": 4,
 "nbformat_minor": 5
}
