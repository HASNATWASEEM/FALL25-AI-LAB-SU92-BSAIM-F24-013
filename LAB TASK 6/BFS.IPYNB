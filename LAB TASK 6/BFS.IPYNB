{
 "cells": [
  {
   "cell_type": "code",
   "execution_count": 1,
   "id": "769f8536",
   "metadata": {},
   "outputs": [
    {
     "name": "stdout",
     "output_type": "stream",
     "text": [
      "A\n",
      "B\n",
      "C\n",
      "D\n",
      "E\n",
      "F\n",
      "G\n",
      "H\n",
      "I\n",
      "K\n",
      "L\n",
      "M\n"
     ]
    }
   ],
   "source": [
    "adj_list = {\n",
    "    'A': ['B', 'C'],\n",
    "    'B': ['D', 'E'],\n",
    "    'C': ['F'],\n",
    "    'D': ['G', 'H'],\n",
    "    'E': [],\n",
    "    'F': ['I', 'K'],\n",
    "    'G': [],\n",
    "    'H': ['L'],\n",
    "    'I': [],\n",
    "    'K': ['M'],\n",
    "    'L': [],\n",
    "    'M': []\n",
    "}\n",
    "\n",
    "def bfs_recursive(adj_list, current_level, seen):\n",
    "    if not current_level:\n",
    "        return\n",
    "    next_level = []\n",
    "    for node in current_level:\n",
    "        if node not in seen:\n",
    "            print(node)\n",
    "            seen.append(node)\n",
    "            next_level.extend(adj_list[node])\n",
    "    bfs_recursive(adj_list, next_level, seen)\n",
    "\n",
    "bfs_recursive(adj_list, ['A'], [])\n"
   ]
  },
  {
   "cell_type": "code",
   "execution_count": null,
   "id": "bdcf2d66",
   "metadata": {},
   "outputs": [
    {
     "name": "stdout",
     "output_type": "stream",
     "text": [
      "A\n",
      "B\n",
      "C\n",
      "D\n",
      "E\n",
      "F\n"
     ]
    }
   ],
   "source": []
  },
  {
   "cell_type": "code",
   "execution_count": null,
   "id": "18d27359",
   "metadata": {},
   "outputs": [
    {
     "name": "stdout",
     "output_type": "stream",
     "text": [
      "A\n",
      "B\n",
      "C\n",
      "D\n",
      "E\n",
      "F\n"
     ]
    }
   ],
   "source": [
    "from collections import deque\n",
    "\n",
    "class Node:\n",
    "    def __init__(self, value):\n",
    "        self.value = value\n",
    "        self.children = []\n",
    "\n",
    "def bfs(start_node):\n",
    "    to_visit = deque([start_node])\n",
    "    seen = []\n",
    "\n",
    "    while to_visit:\n",
    "        current = to_visit.popleft()\n",
    "\n",
    "        if current not in seen:\n",
    "            print(current.value)\n",
    "            seen.append(current)\n",
    "\n",
    "            for child in current.children:\n",
    "                to_visit.append(child)\n",
    "node_a = Node('A')\n",
    "node_b = Node('B')\n",
    "node_c = Node('C')\n",
    "node_d = Node('D')\n",
    "node_e = Node('E')\n",
    "node_f = Node('F')\n",
    "\n",
    "node_a.children = [node_b, node_c]\n",
    "node_b.children = [node_d, node_e]\n",
    "node_c.children = [node_f]\n",
    "bfs(node_a)\n"
   ]
  }
 ],
 "metadata": {
  "kernelspec": {
   "display_name": "base",
   "language": "python",
   "name": "python3"
  },
  "language_info": {
   "codemirror_mode": {
    "name": "ipython",
    "version": 3
   },
   "file_extension": ".py",
   "mimetype": "text/x-python",
   "name": "python",
   "nbconvert_exporter": "python",
   "pygments_lexer": "ipython3",
   "version": "3.12.4"
  }
 },
 "nbformat": 4,
 "nbformat_minor": 5
}
