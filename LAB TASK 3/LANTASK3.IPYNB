{
 "cells": [
  {
   "cell_type": "code",
   "execution_count": 5,
   "id": "321fe094",
   "metadata": {},
   "outputs": [
    {
     "name": "stdout",
     "output_type": "stream",
     "text": [
      "Living room 11 => Action: Turn OFF the AC\n",
      "History so far:\n",
      "['Living room: 11', 'Drawing room: 24', 'Bed Room: 22', 'Guest Room: 22', 'Living room: 11']\n",
      "----------------------------------------\n",
      "Drawing room 24 => Action: Turn ON the AC\n",
      "History so far:\n",
      "['Living room: 11', 'Drawing room: 24', 'Bed Room: 22', 'Guest Room: 22', 'Living room: 11', 'Drawing room: 24']\n",
      "----------------------------------------\n",
      "Bed Room 22 => Action: Turn ON the AC\n",
      "History so far:\n",
      "['Living room: 11', 'Drawing room: 24', 'Bed Room: 22', 'Guest Room: 22', 'Living room: 11', 'Drawing room: 24', 'Bed Room: 22']\n",
      "----------------------------------------\n",
      "Guest Room 22 => Action: Turn ON the AC\n",
      "History so far:\n",
      "['Living room: 11', 'Drawing room: 24', 'Bed Room: 22', 'Guest Room: 22', 'Living room: 11', 'Drawing room: 24', 'Bed Room: 22', 'Guest Room: 22']\n",
      "----------------------------------------\n"
     ]
    }
   ],
   "source": [
    "class Model_Based_Agent:\n",
    "    def __init__(self, temp, filename=\"temp_history.txt\"):\n",
    "        self.fixed_temp = temp\n",
    "        self.filename = filename\n",
    "        open(self.filename, \"a\").close()  \n",
    "\n",
    "    def senser(self, temp, room_name=\"\"):\n",
    "        self.current_temp = temp\n",
    "        self.current_room = room_name\n",
    "        with open(self.filename, \"a\") as f:\n",
    "            f.write(f\"{room_name}: {temp}\\n\")\n",
    "\n",
    "    def performance(self):\n",
    "        if self.current_temp > self.fixed_temp:\n",
    "            return \"Turn ON the AC\"\n",
    "        else:\n",
    "            return \"Turn OFF the AC\"\n",
    "\n",
    "    def actuator(self, room_name=\"\"):\n",
    "        action = self.performance()\n",
    "        print(f\"{room_name} {self.current_temp} => Action: {action}\")\n",
    "\n",
    "        print(\"History so far:\")\n",
    "        with open(self.filename, \"r\") as f:\n",
    "            history = f.read().strip().split(\"\\n\")\n",
    "            print(history)\n",
    "        print(\"-\" * 40)\n",
    "rooms = {\n",
    "    \"Living room\": 11,\n",
    "    \"Drawing room\": 24,\n",
    "    \"Bed Room\": 22\n",
    "}\n",
    "\n",
    "agent = Model_Based_Agent(16)\n",
    "\n",
    "for room, temp in rooms.items():\n",
    "    agent.senser(temp, room)\n",
    "    agent.actuator(room)\n",
    "\n",
    "agent.senser(22, \"Guest Room\")\n",
    "agent.actuator(\"Guest Room\")\n"
   ]
  },
  {
   "cell_type": "code",
   "execution_count": null,
   "id": "1f9fb44f",
   "metadata": {},
   "outputs": [],
   "source": []
  }
 ],
 "metadata": {
  "kernelspec": {
   "display_name": "base",
   "language": "python",
   "name": "python3"
  },
  "language_info": {
   "codemirror_mode": {
    "name": "ipython",
    "version": 3
   },
   "file_extension": ".py",
   "mimetype": "text/x-python",
   "name": "python",
   "nbconvert_exporter": "python",
   "pygments_lexer": "ipython3",
   "version": "3.12.4"
  }
 },
 "nbformat": 4,
 "nbformat_minor": 5
}
