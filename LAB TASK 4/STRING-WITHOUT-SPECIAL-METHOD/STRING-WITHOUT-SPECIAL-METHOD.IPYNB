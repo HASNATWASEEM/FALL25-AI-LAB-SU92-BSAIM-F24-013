{
 "cells": [
  {
   "cell_type": "code",
   "execution_count": 2,
   "id": "60104ed7",
   "metadata": {},
   "outputs": [
    {
     "name": "stdout",
     "output_type": "stream",
     "text": [
      "String without special characters: KUCH BHIKUCH BHI\n"
     ]
    }
   ],
   "source": [
    "user_input = input(\"Enter a string: \")\n",
    "\n",
    "cleaned_string = \"\"\n",
    "for char in user_input:\n",
    "    if char.isalnum() or char == \" \":  \n",
    "        cleaned_string += char\n",
    "print(\"String without special characters:\", cleaned_string)\n"
   ]
  },
  {
   "cell_type": "code",
   "execution_count": null,
   "id": "52047b9b",
   "metadata": {},
   "outputs": [],
   "source": []
  }
 ],
 "metadata": {
  "kernelspec": {
   "display_name": "base",
   "language": "python",
   "name": "python3"
  },
  "language_info": {
   "codemirror_mode": {
    "name": "ipython",
    "version": 3
   },
   "file_extension": ".py",
   "mimetype": "text/x-python",
   "name": "python",
   "nbconvert_exporter": "python",
   "pygments_lexer": "ipython3",
   "version": "3.12.4"
  }
 },
 "nbformat": 4,
 "nbformat_minor": 5
}
