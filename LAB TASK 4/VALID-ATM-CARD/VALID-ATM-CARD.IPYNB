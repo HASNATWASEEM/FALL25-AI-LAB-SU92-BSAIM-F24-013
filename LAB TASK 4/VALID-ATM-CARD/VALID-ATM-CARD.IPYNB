{
 "cells": [
  {
   "cell_type": "code",
   "execution_count": 1,
   "id": "32a89c2d",
   "metadata": {},
   "outputs": [
    {
     "ename": "IndexError",
     "evalue": "string index out of range",
     "output_type": "error",
     "traceback": [
      "\u001b[1;31m---------------------------------------------------------------------------\u001b[0m",
      "\u001b[1;31mIndexError\u001b[0m                                Traceback (most recent call last)",
      "Cell \u001b[1;32mIn[1], line 13\u001b[0m\n\u001b[0;32m     11\u001b[0m     \u001b[38;5;28;01mreturn\u001b[39;00m total_sum \u001b[38;5;241m%\u001b[39m \u001b[38;5;241m10\u001b[39m \u001b[38;5;241m==\u001b[39m \u001b[38;5;241m0\u001b[39m\n\u001b[0;32m     12\u001b[0m card_number \u001b[38;5;241m=\u001b[39m \u001b[38;5;28minput\u001b[39m(\u001b[38;5;124m\"\u001b[39m\u001b[38;5;124mEnter your card number: \u001b[39m\u001b[38;5;124m\"\u001b[39m)\u001b[38;5;241m.\u001b[39mstrip()\n\u001b[1;32m---> 13\u001b[0m \u001b[38;5;28mprint\u001b[39m(\u001b[38;5;124m\"\u001b[39m\u001b[38;5;124mValid Card:\u001b[39m\u001b[38;5;124m\"\u001b[39m \u001b[38;5;28;01mif\u001b[39;00m atm_card_check(card_number) \u001b[38;5;28;01melse\u001b[39;00m \u001b[38;5;124m\"\u001b[39m\u001b[38;5;124mInvalid Card!\u001b[39m\u001b[38;5;124m\"\u001b[39m)\n",
      "Cell \u001b[1;32mIn[1], line 3\u001b[0m, in \u001b[0;36matm_card_check\u001b[1;34m(card_no)\u001b[0m\n\u001b[0;32m      1\u001b[0m \u001b[38;5;28;01mdef\u001b[39;00m \u001b[38;5;21matm_card_check\u001b[39m(card_no):\n\u001b[0;32m      2\u001b[0m     digits \u001b[38;5;241m=\u001b[39m [\u001b[38;5;28mint\u001b[39m(d) \u001b[38;5;28;01mfor\u001b[39;00m d \u001b[38;5;129;01min\u001b[39;00m card_no[:\u001b[38;5;241m-\u001b[39m\u001b[38;5;241m1\u001b[39m]]  \n\u001b[1;32m----> 3\u001b[0m     check_digit \u001b[38;5;241m=\u001b[39m \u001b[38;5;28mint\u001b[39m(card_no[\u001b[38;5;241m-\u001b[39m\u001b[38;5;241m1\u001b[39m]) \n\u001b[0;32m      4\u001b[0m     digits \u001b[38;5;241m=\u001b[39m digits[::\u001b[38;5;241m-\u001b[39m\u001b[38;5;241m1\u001b[39m]\n\u001b[0;32m      5\u001b[0m     \u001b[38;5;28;01mfor\u001b[39;00m i \u001b[38;5;129;01min\u001b[39;00m \u001b[38;5;28mrange\u001b[39m(\u001b[38;5;28mlen\u001b[39m(digits)):\n",
      "\u001b[1;31mIndexError\u001b[0m: string index out of range"
     ]
    }
   ],
   "source": [
    "def atm_card_check(card_no):\n",
    "    digits = [int(d) for d in card_no[:-1]]  \n",
    "    check_digit = int(card_no[-1]) \n",
    "    digits = digits[::-1]\n",
    "    for i in range(len(digits)):\n",
    "        if i % 2 == 0: \n",
    "            digits[i] *= 2\n",
    "            if digits[i] > 9:\n",
    "                digits[i] -= 9\n",
    "    total_sum = sum(digits) + check_digit\n",
    "    return total_sum % 10 == 0\n",
    "card_number = input(\"Enter your card number: \").strip()\n",
    "print(\"Valid Card:\" if atm_card_check(card_number) else \"Invalid Card!\")\n"
   ]
  },
  {
   "cell_type": "code",
   "execution_count": null,
   "id": "46d76fb8",
   "metadata": {},
   "outputs": [],
   "source": []
  }
 ],
 "metadata": {
  "kernelspec": {
   "display_name": "base",
   "language": "python",
   "name": "python3"
  },
  "language_info": {
   "codemirror_mode": {
    "name": "ipython",
    "version": 3
   },
   "file_extension": ".py",
   "mimetype": "text/x-python",
   "name": "python",
   "nbconvert_exporter": "python",
   "pygments_lexer": "ipython3",
   "version": "3.12.4"
  }
 },
 "nbformat": 4,
 "nbformat_minor": 5
}
